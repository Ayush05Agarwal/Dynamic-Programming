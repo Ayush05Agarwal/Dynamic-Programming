{
 "cells": [
  {
   "cell_type": "markdown",
   "metadata": {},
   "source": [
    "# Coin Change Problem\n",
    "\n",
    "No of ways to produce a sum of money by different combination of given coins"
   ]
  },
  {
   "cell_type": "code",
   "execution_count": 32,
   "metadata": {},
   "outputs": [],
   "source": [
    "def coin_change_all_ways(coins,total_money):\n",
    "    coins.insert(0,0)\n",
    "    dp=[[0 for p in range(total_money+1)]for q in range(len(coins))]\n",
    "    dp[0][0]=1\n",
    "    for i in range(1,len(coins)):\n",
    "        for j in range(total_money+1):\n",
    "            if(coins[i]>j):\n",
    "                dp[i][j]=dp[i-1][j]\n",
    "            else:\n",
    "                dp[i][j]=dp[i-1][j]+dp[i][j-coins[i]]\n",
    "    return dp"
   ]
  },
  {
   "cell_type": "code",
   "execution_count": 33,
   "metadata": {},
   "outputs": [
    {
     "name": "stdout",
     "output_type": "stream",
     "text": [
      "[[1, 0, 0, 0, 0, 0, 0, 0, 0, 0, 0, 0, 0, 0, 0, 0], [1, 0, 1, 0, 1, 0, 1, 0, 1, 0, 1, 0, 1, 0, 1, 0], [1, 0, 1, 1, 1, 1, 2, 1, 2, 2, 2, 2, 3, 2, 3, 3], [1, 0, 1, 1, 1, 2, 2, 2, 3, 3, 4, 4, 5, 5, 6, 7], [1, 0, 1, 1, 1, 2, 2, 2, 3, 3, 5, 4, 6, 6, 7, 9]]\n"
     ]
    }
   ],
   "source": [
    "coins=[2,3,5,10]\n",
    "total=15\n",
    "ans=coin_change_all_ways(coins,total)\n",
    "print(ans)"
   ]
  },
  {
   "cell_type": "markdown",
   "metadata": {},
   "source": [
    "# Minimum Coin Change Problem\n",
    "\n",
    "Minimum number of coins required to get a particular sum"
   ]
  },
  {
   "cell_type": "code",
   "execution_count": 4,
   "metadata": {},
   "outputs": [],
   "source": [
    "def minimum_number_of_coin(coins,total_money):\n",
    "    coins.insert(0,0)\n",
    "    dp=[[99999 for p in range(total_money+1)] for q in range(len(coins))]\n",
    "    for p in range(0,len(coins)):\n",
    "        dp[p][0]=0\n",
    "    for i in range(len(coins)):\n",
    "        for j in range(total_money+1):\n",
    "            if(coins[i]>j):\n",
    "                dp[i][j]=dp[i-1][j]\n",
    "            else:\n",
    "                dp[i][j]=min(dp[i-1][j],1+dp[i][j-coins[i]])\n",
    "    i=len(coins)-1\n",
    "    j=total_money\n",
    "    denomination=[]\n",
    "    while(i!=0 and j!=0):\n",
    "        if(dp[i][j]==dp[i-1][j]):\n",
    "            i-=1\n",
    "        else:\n",
    "            denomination.append(coins[i])\n",
    "            j-=coins[i]\n",
    "    print(denomination)\n",
    "        \n",
    "    return dp[len(coins)-1][total_money]\n",
    "                "
   ]
  },
  {
   "cell_type": "code",
   "execution_count": 5,
   "metadata": {},
   "outputs": [
    {
     "name": "stdout",
     "output_type": "stream",
     "text": [
      "[4, 10, 1]\n",
      "3\n"
     ]
    }
   ],
   "source": [
    "print(minimum_number_of_coin([1,10,4],15))\n"
   ]
  },
  {
   "cell_type": "markdown",
   "metadata": {},
   "source": [
    "# 0/1 Knapsack"
   ]
  },
  {
   "cell_type": "code",
   "execution_count": 35,
   "metadata": {},
   "outputs": [],
   "source": [
    "def knapsack(weights_fun,price_fun,total_weight):\n",
    "    lst=[]\n",
    "    for p in range(len(weights_fun)):\n",
    "        lst.append([weights_fun[p],price_fun[p]])\n",
    "#     lst=sorted(lst)\n",
    "        lst.sort()\n",
    "    weights=[]\n",
    "    price=[]\n",
    "    for p in range(0,len(lst)):\n",
    "        weights.append(lst[p][0])\n",
    "        price.append(lst[p][1])\n",
    "    weights.insert(0,0)\n",
    "    price.insert(0,0)\n",
    "    dp=[[0 for p in range(0,total_weight+1)] for q in range(0,len(weights))]\n",
    "    for i in range(1,(len(weights))):\n",
    "        for j in range(0,total_weight+1):\n",
    "            if(weights[i]>j):\n",
    "                dp[i][j]=dp[i-1][j]\n",
    "            else:\n",
    "                dp[i][j]=max(dp[i-1][j],price[i]+dp[i-1][j-weights[i]])\n",
    "    i=len(weights)-1\n",
    "    j=total_weight\n",
    "    answer=[]\n",
    "    while(i!=0 and j!=0):\n",
    "        if(dp[i][j]==dp[i-1][j]):\n",
    "            i-=1\n",
    "        else:\n",
    "            answer.append(weights[i])\n",
    "            j-=weights[i]\n",
    "    print(answer)\n",
    "            \n",
    "    return dp[len(weights)-1][total_weight]\n",
    "        \n",
    "        "
   ]
  },
  {
   "cell_type": "code",
   "execution_count": 37,
   "metadata": {},
   "outputs": [
    {
     "name": "stdout",
     "output_type": "stream",
     "text": [
      "[30, 20]\n",
      "220\n"
     ]
    }
   ],
   "source": [
    "print(knapsack([10,20,30],[60,100,120],50))"
   ]
  },
  {
   "cell_type": "markdown",
   "metadata": {},
   "source": [
    "# Longest Common Subsequence "
   ]
  },
  {
   "cell_type": "code",
   "execution_count": null,
   "metadata": {},
   "outputs": [],
   "source": [
    "def lcs(str1,str2):\n",
    "    str1=list(str1)\n",
    "    str2=list(str2)\n",
    "    str1.insert(0,0)\n",
    "    str2.insert(0,0)\n",
    "    dp=[[0 for p in range(0,len(str1))] for q in range(0,len(str2))]\n",
    "    for i in range(1,len(str2)):\n",
    "        for j in range(len(str1)):\n",
    "            if(str2[i]==str1[j]):\n",
    "                dp[i][j]=1+dp[i-1][j-1]\n",
    "            else:\n",
    "                dp[i][j]=max(dp[i][j-1],dp[i-1][j])\n",
    "    i=len(str2)-1\n",
    "    j=len(str1)-1\n",
    "    answer=[]\n",
    "    while(i!=0 and j!=0):\n",
    "        if(dp[i][j]==dp[i][j-1]):\n",
    "            j-=1\n",
    "        elif(dp[i][j]==dp[i-1][j]):\n",
    "            i-=1\n",
    "        else:\n",
    "            answer.append(str1[j])\n",
    "            i-=1\n",
    "            j-=1\n",
    "    answer.reverse()\n",
    "    print(answer)\n",
    "    return dp[len(str2)-1][len(str1)-1]"
   ]
  },
  {
   "cell_type": "code",
   "execution_count": 3,
   "metadata": {},
   "outputs": [
    {
     "name": "stdout",
     "output_type": "stream",
     "text": [
      "['c', 'd']\n"
     ]
    },
    {
     "data": {
      "text/plain": [
       "2"
      ]
     },
     "execution_count": 3,
     "metadata": {},
     "output_type": "execute_result"
    }
   ],
   "source": [
    "lcs(\"abcd\",\"cd\")"
   ]
  },
  {
   "cell_type": "markdown",
   "metadata": {},
   "source": [
    "# Subset Sum Problem"
   ]
  },
  {
   "cell_type": "code",
   "execution_count": 35,
   "metadata": {},
   "outputs": [],
   "source": [
    "def subsetsum(lst,max_sum):\n",
    "    lst.insert(0,0)\n",
    "    dp=[[0 for p in range(max_sum+1)] for q in range(len(lst))]\n",
    "    dp[0][0]=1\n",
    "    \n",
    "    for i in range(1,len(lst)):\n",
    "        for j in range(max_sum+1):\n",
    "            if(lst[i]>j):\n",
    "                dp[i][j]= dp[i-1][j]\n",
    "            else:\n",
    "                dp[i][j]=max(dp[i-1][j],dp[i-1][j-lst[i]])\n",
    "    i=len(lst)-1\n",
    "    j=max_sum\n",
    "    answer=[]\n",
    "    while(i!=0 and j!=0):\n",
    "        if(dp[i][j]==dp[i-1][j]):\n",
    "            i-=1\n",
    "        else:\n",
    "            answer.append(lst[i])\n",
    "            j-=lst[i]\n",
    "            i-=1\n",
    "            \n",
    "        \n",
    "        \n",
    "    print(answer)\n",
    "    return dp[len(lst)-1][max_sum]\n",
    "                \n",
    "    "
   ]
  },
  {
   "cell_type": "code",
   "execution_count": 38,
   "metadata": {},
   "outputs": [
    {
     "name": "stdout",
     "output_type": "stream",
     "text": [
      "[]\n"
     ]
    },
    {
     "data": {
      "text/plain": [
       "0"
      ]
     },
     "execution_count": 38,
     "metadata": {},
     "output_type": "execute_result"
    }
   ],
   "source": [
    "subsetsum([1,2,3,4],11)"
   ]
  },
  {
   "cell_type": "markdown",
   "metadata": {},
   "source": [
    "# Longest Increasing subsequence"
   ]
  },
  {
   "cell_type": "code",
   "execution_count": 49,
   "metadata": {},
   "outputs": [],
   "source": [
    "def lis(lst):\n",
    "    length=[1 for p in range(len(lst))]\n",
    "    subseq=[0 for p in range(0,len(lst))]\n",
    "    for i in range(len(lst)):\n",
    "        for j in range(0,i):\n",
    "            if(lst[i]>lst[j]):\n",
    "                length[i]=max(length[i],length[j]+1)\n",
    "                if(max(length[i],length[j]+1)==length[j]+1):\n",
    "                    subseq[i]=j\n",
    "                \n",
    "    print(length)\n",
    "    print(subseq)\n",
    "    initial=length.index(max(length))\n",
    "    while(initial!=0):\n",
    "        print(lst[initial],end=\" \")\n",
    "        initial=subseq[initial]\n",
    "        \n",
    "            "
   ]
  },
  {
   "cell_type": "code",
   "execution_count": 51,
   "metadata": {},
   "outputs": [
    {
     "name": "stdout",
     "output_type": "stream",
     "text": [
      "[1, 2, 3, 2, 3, 3, 4, 5, 3, 5, 4, 6]\n",
      "[0, 0, 1, 0, 3, 3, 5, 6, 3, 6, 8, 9]\n",
      "15 11 9 6 2 "
     ]
    }
   ],
   "source": [
    "lis([0,4,12,2,10,6,9,13,3,11,7,15])"
   ]
  },
  {
   "cell_type": "markdown",
   "metadata": {},
   "source": [
    "# Longest Palindromic Subsequence"
   ]
  },
  {
   "cell_type": "code",
   "execution_count": 11,
   "metadata": {},
   "outputs": [],
   "source": [
    "def lps(lst):\n",
    "    n=len(lst)\n",
    "    dp=[[0 for p in range(len(lst))] for q in range(len(lst))]\n",
    "    for i in range(len(lst)):\n",
    "        dp[i][i]=1\n",
    "    for cl in range(2, n+1): \n",
    "        for i in range(n-cl+1): \n",
    "            j = i+cl-1\n",
    "            \n",
    "            if lst[i] == lst[j]: \n",
    "                dp[i][j] = dp[i+1][j-1] + 2\n",
    "            else: \n",
    "                dp[i][j] = max(dp[i][j-1], dp[i+1][j]); \n",
    "                \n",
    "    i=0\n",
    "    j=len(lst)-1\n",
    "    ans=[]\n",
    "    while(i!=j):\n",
    "       \n",
    "        \n",
    "        if(dp[i][j]==dp[i+1][j]):\n",
    "            i+=1\n",
    "        elif(dp[i][j]==dp[i][j-1]):\n",
    "            j-=1\n",
    "        else:\n",
    "            ans.append(lst[i])\n",
    "            i+=1\n",
    "            j-=1\n",
    "    ans.append(lst[i])\n",
    "    final_ans=[0 for p in range(len(ans)*2-1)] \n",
    "    for j in range(len(ans)):\n",
    "        final_ans[j]=ans[j]\n",
    "        final_ans[len(final_ans)-1-j]=ans[j]\n",
    "    print(final_ans)\n",
    "        \n",
    "            \n",
    "    print(dp)"
   ]
  },
  {
   "cell_type": "code",
   "execution_count": 12,
   "metadata": {},
   "outputs": [
    {
     "name": "stdout",
     "output_type": "stream",
     "text": [
      "['c', 'a', 'b', 'a', 'c']\n",
      "[[1, 1, 1, 1, 3, 3, 5, 5], [0, 1, 1, 1, 1, 3, 3, 5], [0, 0, 1, 1, 1, 1, 3, 5], [0, 0, 0, 1, 1, 1, 3, 3], [0, 0, 0, 0, 1, 1, 3, 3], [0, 0, 0, 0, 0, 1, 1, 1], [0, 0, 0, 0, 0, 0, 1, 1], [0, 0, 0, 0, 0, 0, 0, 1]]\n"
     ]
    }
   ],
   "source": [
    "lps(list(\"abcdabac\"))"
   ]
  },
  {
   "cell_type": "markdown",
   "metadata": {},
   "source": [
    "# Minimum Distance Problem"
   ]
  },
  {
   "cell_type": "code",
   "execution_count": 27,
   "metadata": {},
   "outputs": [],
   "source": [
    "def mdp(lst1,lst2):\n",
    "    lst1.insert(0,0)\n",
    "    lst2.insert(0,0)\n",
    "    dp=[[0 for p in range(len(lst2))]for q in range(len(lst1))]\n",
    "    for p in range(0,len(lst2)):\n",
    "        dp[0][p]=p\n",
    "    for p in range(0,len(lst1)):\n",
    "        dp[p][0]=p\n",
    "    for i in range(1,len(lst1)):\n",
    "        for j in range(1,len(lst2)):\n",
    "            if(lst1[i]==lst2[j]):\n",
    "                dp[i][j]=dp[i-1][j-1]\n",
    "            else:\n",
    "                dp[i][j]=1+min(dp[i-1][j],dp[i][j-1],dp[i-1][j-1])\n",
    "    i=len(lst1)-1\n",
    "    j=len(lst2)-1\n",
    "    ans=[]\n",
    "    \n",
    "    while(i!=0 and j!=0):\n",
    "        if(dp[i][j]==dp[i-1][j]+1):\n",
    "            i-=1\n",
    "        elif(dp[i][j]==dp[i-1][j-1]+1):\n",
    "            ans.append(lst1[i])\n",
    "            i-=1\n",
    "            j-=1\n",
    "        elif(dp[i][j]==dp[i][j-1]+1):\n",
    "            j-=1\n",
    "        else:\n",
    "            ans.append(lst2[j])\n",
    "            i-=1\n",
    "            j-=1\n",
    "    ans.reverse()\n",
    "    print(ans)\n",
    "    "
   ]
  },
  {
   "cell_type": "code",
   "execution_count": 28,
   "metadata": {},
   "outputs": [
    {
     "name": "stdout",
     "output_type": "stream",
     "text": [
      "['a', 'z', 'c', 'e', 'd']\n"
     ]
    }
   ],
   "source": [
    "mdp(list(\"azced\"),list(\"abcdef\"))"
   ]
  },
  {
   "cell_type": "markdown",
   "metadata": {},
   "source": [
    "# Longest Common Substring"
   ]
  },
  {
   "cell_type": "code",
   "execution_count": 7,
   "metadata": {},
   "outputs": [],
   "source": [
    "import numpy as np\n",
    "def lcs(lst1,lst2):\n",
    "    dp=[[0 for p in range(len(lst2))] for q in range(len(lst1))]\n",
    "    for i in range(len(lst1)):\n",
    "        for j in range(len(lst2)):\n",
    "            if(lst1[i]==lst2[j]):\n",
    "                dp[i][j]=dp[i-1][j-1]+1           \n",
    "    print(np.max(dp))\n",
    "    for i in range(0,len(lst1)):\n",
    "        for j in range(0,len(lst2)):\n",
    "            if(np.max(dp)==dp[i][j]):\n",
    "                new_i=i\n",
    "                new_j=j\n",
    "    i=new_i\n",
    "    j=new_j\n",
    "    ans=[]\n",
    "    while(i!=0 and j!=0):\n",
    "        if(dp[i][j]==dp[i-1][j-1]+1):\n",
    "            ans.append(lst2[j])\n",
    "            j-=1\n",
    "            i-=1\n",
    "    ans.reverse()\n",
    "    print(ans)\n",
    "        "
   ]
  },
  {
   "cell_type": "code",
   "execution_count": 8,
   "metadata": {},
   "outputs": [
    {
     "name": "stdout",
     "output_type": "stream",
     "text": [
      "3\n",
      "['b', 'c', 'd']\n"
     ]
    }
   ],
   "source": [
    "lcs(list(\"abcdaf\"),list(\"zbcdf\"))"
   ]
  },
  {
   "cell_type": "markdown",
   "metadata": {},
   "source": [
    "# Rod Cutting Problem"
   ]
  },
  {
   "cell_type": "code",
   "execution_count": 1,
   "metadata": {},
   "outputs": [],
   "source": [
    "def rcp(lst):\n",
    "    lst.insert(0,0)\n",
    "    dp=[[0 for p in range(len(lst))] for q in range(len(lst))]\n",
    "    for i in range(len(lst)):\n",
    "        dp[1][i]=i\n",
    "    for i in range(1,len(lst)):\n",
    "        for j in range(1,len(lst)):\n",
    "            if(j<i):\n",
    "                dp[i][j]=dp[i-1][j]\n",
    "            else:\n",
    "                dp[i][j]=max(dp[i-1][j],dp[i][j-i]+lst[i])\n",
    "    return dp[-1][-1]"
   ]
  },
  {
   "cell_type": "code",
   "execution_count": 2,
   "metadata": {},
   "outputs": [
    {
     "data": {
      "text/plain": [
       "22"
      ]
     },
     "execution_count": 2,
     "metadata": {},
     "output_type": "execute_result"
    }
   ],
   "source": [
    "rcp([1,5,8,9,10,17,17,20])"
   ]
  },
  {
   "cell_type": "markdown",
   "metadata": {},
   "source": [
    "# Regular Expression Matching"
   ]
  },
  {
   "cell_type": "code",
   "execution_count": 32,
   "metadata": {},
   "outputs": [],
   "source": [
    "def rem(string,pattern):\n",
    "    string=list(string)\n",
    "    string.insert(0,0)\n",
    "    pattern=list(pattern)\n",
    "    pattern.insert(0,0)\n",
    "    \n",
    "    dp=[[False for i in range(0,len(string))] for j in range(0,len(pattern))]\n",
    "    dp[0][0]=True\n",
    "    for i in range(1,len(string)):\n",
    "        for j in range(1,len(pattern)):\n",
    "            if(string[i]==pattern[j] or pattern[j]==\".\"):\n",
    "                dp[i][j]=dp[i-1][j-1]\n",
    "            elif(pattern[j]==\"*\"):\n",
    "                val=dp[i][j-2]\n",
    "                val1=False\n",
    "                if(string[i]==pattern[j-1] or pattern[j-1]==\".\"):\n",
    "                    val1=dp[i-1][j]\n",
    "                dp[i][j]=val1 or val\n",
    "            else:\n",
    "                dp[i][j]=False\n",
    "    print(dp[-1][-1])\n",
    "                "
   ]
  },
  {
   "cell_type": "code",
   "execution_count": 33,
   "metadata": {},
   "outputs": [
    {
     "name": "stdout",
     "output_type": "stream",
     "text": [
      "True\n"
     ]
    }
   ],
   "source": [
    "rem(\"xaabyc\",\"xa*b.c\")"
   ]
  },
  {
   "cell_type": "markdown",
   "metadata": {},
   "source": [
    "# Job Scheduling"
   ]
  },
  {
   "cell_type": "code",
   "execution_count": 30,
   "metadata": {},
   "outputs": [],
   "source": [
    "def jobs(start_time,end_time,moneyo):\n",
    "    lst=[]\n",
    "    for i in range(len(start_time)):\n",
    "        lst.append([end_time[i],start_time[i],moneyo[i]])\n",
    "    lst.sort()\n",
    "    time=[]\n",
    "    money=[]\n",
    "    for i in range(len(lst)):\n",
    "        time.append([lst[i][1],lst[i][0]])\n",
    "        money.append(lst[i][2])\n",
    "    final_ans=money[:]\n",
    "    for i in range(1,len(time)):\n",
    "        for j in range(0,i):\n",
    "            if(time[i][0]>=time[j][1]):\n",
    "                final_ans[i]=max(final_ans[i],final_ans[j]+money[i])\n",
    "    print(final_ans)\n",
    "    "
   ]
  },
  {
   "cell_type": "code",
   "execution_count": 31,
   "metadata": {},
   "outputs": [
    {
     "name": "stdout",
     "output_type": "stream",
     "text": [
      "[5, 6, 10, 14, 17, 16]\n"
     ]
    }
   ],
   "source": [
    "start_time=[1,2,4,6,7,5]\n",
    "end_time=[3,5,6,7,9,8]\n",
    "moneyo=[5,6,5,4,2,11]\n",
    "jobs(start_time,end_time,moneyo)"
   ]
  },
  {
   "cell_type": "markdown",
   "metadata": {},
   "source": [
    "# Longest Palindromic Substring"
   ]
  },
  {
   "cell_type": "code",
   "execution_count": 23,
   "metadata": {},
   "outputs": [],
   "source": [
    "import numpy as np\n",
    "def lps(str1):\n",
    "    lst=list(str1)\n",
    "    dp=[[False for i in range(len(lst))] for j in range(len(lst))]\n",
    "    max_length=1\n",
    "    start=0\n",
    "    for i in range(len(lst)):\n",
    "        dp[i][i]=True\n",
    "    for i in range(0,len(lst)-1):\n",
    "        if(lst[i]==lst[i+1]):\n",
    "            max_length=2\n",
    "            start=i\n",
    "            dp[i][i+1]=True\n",
    "    for length in range(2,len(lst)+1):\n",
    "        for i in range(0,len(lst)-length+1):\n",
    "            j=length+i-1\n",
    "            if(lst[i]==lst[j] and dp[i+1][j-1]):\n",
    "                dp[i][j]=True\n",
    "                if(length>max_length):\n",
    "                    max_length=length\n",
    "                    start=i\n",
    "                    end=length+i-1\n",
    "    end=max_length+start-1\n",
    "    ans=lst[start:end+1]\n",
    "    for i in ans:\n",
    "        print(i,end=\"\")\n",
    "    print()\n",
    "    \n",
    "                    \n",
    "            \n",
    "        \n",
    "    "
   ]
  },
  {
   "cell_type": "code",
   "execution_count": 25,
   "metadata": {},
   "outputs": [
    {
     "name": "stdout",
     "output_type": "stream",
     "text": [
      "r\n"
     ]
    }
   ],
   "source": [
    "lps(\"rfkqyuqfjkxy\")"
   ]
  },
  {
   "cell_type": "code",
   "execution_count": null,
   "metadata": {},
   "outputs": [],
   "source": []
  },
  {
   "cell_type": "code",
   "execution_count": null,
   "metadata": {},
   "outputs": [],
   "source": []
  },
  {
   "cell_type": "code",
   "execution_count": null,
   "metadata": {},
   "outputs": [],
   "source": []
  },
  {
   "cell_type": "code",
   "execution_count": null,
   "metadata": {},
   "outputs": [],
   "source": []
  }
 ],
 "metadata": {
  "kernelspec": {
   "display_name": "Python 3",
   "language": "python",
   "name": "python3"
  },
  "language_info": {
   "codemirror_mode": {
    "name": "ipython",
    "version": 3
   },
   "file_extension": ".py",
   "mimetype": "text/x-python",
   "name": "python",
   "nbconvert_exporter": "python",
   "pygments_lexer": "ipython3",
   "version": "3.7.3"
  }
 },
 "nbformat": 4,
 "nbformat_minor": 2
}
